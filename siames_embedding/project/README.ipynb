{
 "cells": [
  {
   "cell_type": "code",
   "execution_count": 1,
   "id": "cce4a729-8379-44dd-ac86-5833fcebc550",
   "metadata": {},
   "outputs": [],
   "source": [
    "#!/usr/bin/env python\n",
    "# coding: utf-8\n",
    "\n",
    "# # Embedding Network\n",
    "\n",
    "import torch\n",
    "import torch.nn as nn\n",
    "import torch.nn.functional as F\n",
    "from torch.utils.data import Dataset\n",
    "from torch.utils.data import DataLoader\n",
    "\n",
    "import pandas as pd"
   ]
  },
  {
   "cell_type": "code",
   "execution_count": 2,
   "id": "b51e15d6-881e-464c-b82c-0d2bcf9ea626",
   "metadata": {},
   "outputs": [],
   "source": [
    "class EmbeddingModel(nn.Module):\n",
    "    def __init__(self, datamap, y_col = \"y\"):\n",
    "        super(EmbeddingModel, self).__init__()\n",
    "        \n",
    "        self.datamap = datamap\n",
    "        self.y_col = y_col\n",
    "\n",
    "        # 임베딩 레이어 초기화\n",
    "        for k, v in datamap.items() :\n",
    "            if v == \"linear\" :\n",
    "                setattr(self, k, nn.Linear(num_linear_features, embedding_dim))\n",
    "            elif v == \"onehot\" :\n",
    "                setattr(self, k, nn.Embedding(num_sparse_features, embedding_dim))\n",
    "            elif v == \"multihot\" :\n",
    "                setattr(self, k, nn.Embedding(num_sparse_features, embedding_dim))\n",
    "        fc1_embedding_dim = len(datamap) - 1\n",
    "        # 다층 퍼셉트론(MLP) 레이어 초기화 \n",
    "        self.fc1 = nn.Linear(embedding_dim * fc1_embedding_dim, hidden_dim)  # 임베딩된 특성이 3개이므로 *3\n",
    "        self.fc2 = nn.Linear(hidden_dim, output_dim)\n",
    "    \n",
    "    def _get_multihot_embedding(self, embedding, method_multihot) :\n",
    "\n",
    "        if method_multihot == \"mean\" :\n",
    "            # 멀티-핫 특성의 임베딩 평균\n",
    "            multihot_embedding = lambda x : torch.mean(embedding(x), dim = 1)\n",
    "        elif method_multihot == \"sum\" :\n",
    "            # 각 인덱스에 대한 임베딩 벡터를 더하여 합산\n",
    "            multihot_embedding = lambda x : torch.sum(embedding(x), dim = 1)\n",
    "            # multi_hot_embedded = torch.sum(embedding(x[k]), dim=1)\n",
    "        elif method_multihot == \"weighted_mean\" :\n",
    "            # 각 인덱스에 대한 임베딩 벡터를 가져오고 가중 평균 계산\n",
    "            weights = torch.ones_like(emb_vectors)  # 간단히 모든 값에 대해 동일한 가중치 사용\n",
    "            multihot_embedding = lambda x : torch.mean(embedding(x) * weights, dim=1)\n",
    "\n",
    "        return multihot_embedding\n",
    "        \n",
    "    \n",
    "    def forward(self, x, method_multihot = \"sum\"):\n",
    "        # sparse feature 임베딩\n",
    "        embedded = {}\n",
    "        for k, v in self.datamap.items() :\n",
    "            if k == self.y_col :\n",
    "                continue\n",
    "\n",
    "            embedding = getattr(self, k)\n",
    "\n",
    "            if v == \"multihot\" :\n",
    "                embedding = self._get_multihot_embedding(embedding, method_multihot)\n",
    "\n",
    "            embedding_value = embedding(x[k])\n",
    "            embedded[k] = embedding_value\n",
    "\n",
    "        # 모든 임베딩된 특성을 결합\n",
    "        combined_features = torch.cat([v for k, v in embedded.items()], dim=1)  # dim=1은 각 임베딩을 행 방향으로 결합\n",
    "        \n",
    "        # MLP 레이어 적용\n",
    "        x = F.relu(self.fc1(combined_features))\n",
    "        x = self.fc2(x)\n",
    "        \n",
    "        return x"
   ]
  },
  {
   "cell_type": "code",
   "execution_count": 15,
   "id": "0ddcbf25-19b4-45ca-8ab3-fe45f9ebd5df",
   "metadata": {},
   "outputs": [],
   "source": [
    "class SiamesDataset(Dataset): \n",
    "    def __init__(self, df1, datamap1, df2, datamap2, df_y, y_col = \"y\"):\n",
    "        \n",
    "        self.x_data1 = self._get_x_data(df1, datamap1)\n",
    "        self.x_data2 = self._get_x_data(df2, datamap2)\n",
    "        self.y_data = torch.LongTensor(df_y[y_col].values)\n",
    "\n",
    "  # 총 데이터의 개수를 리턴\n",
    "    def __len__(self):\n",
    "        return len(self.y_data)\n",
    "\n",
    "  # 인덱스를 입력받아 그에 맵핑되는 입출력 데이터를 파이토치의 Tensor 형태로 리턴\n",
    "    def __getitem__(self, idx):\n",
    "        x1 = {x : y[idx] for x, y in self.x_data1.items()}\n",
    "        x2 = {x : y[idx] for x, y in self.x_data2.items()}\n",
    "        y = self.y_data[idx]\n",
    "        return x1, x2, y\n",
    "\n",
    "    def _get_x_data(self, df, datamap) :\n",
    "        \n",
    "        x_data = {}\n",
    "        for col, v in datamap.items() :\n",
    "            if v == \"linear\" :\n",
    "                x_data[col] = torch.FloatTensor(df[col].values).unsqueeze(1)\n",
    "            if v == \"multihot\" :\n",
    "                df = df.assign(**{col : lambda x : self._pad_sequence(x[col])})\n",
    "                x_data[col] = torch.LongTensor(df[col].to_list())\n",
    "            if v == \"onehot\" :\n",
    "                x_data[col] = torch.LongTensor(df[col].values)\n",
    "\n",
    "        return x_data\n",
    "    \n",
    "    def _get_max_multihot_size(self, series):\n",
    "        return series.apply(len).max()\n",
    "\n",
    "    def _get_max_multihot_value(self, series):\n",
    "        return series.apply(max).max()\n",
    "        \n",
    "    def _pad_infinite(self, iterable, padding=None):\n",
    "        from itertools import chain, repeat, islice\n",
    "        return chain(iterable, repeat(padding))\n",
    "    \n",
    "    def _pad(self, iterable, size, padding=None):\n",
    "        from itertools import chain, repeat, islice\n",
    "        return list(islice(self._pad_infinite(iterable, padding), size))\n",
    "        \n",
    "    def _pad_sequence(self, series) :\n",
    "        l = self._get_max_multihot_size(series)\n",
    "        m = self._get_max_multihot_value(series)\n",
    "        return series.apply(lambda x : self._pad(x, l, m + 1))"
   ]
  },
  {
   "cell_type": "code",
   "execution_count": 4,
   "id": "d750e45c-c50d-4656-8e10-4c7200e99835",
   "metadata": {},
   "outputs": [],
   "source": [
    "# # Siames Network\n",
    "class SiameseNetwork(nn.Module):\n",
    "    def __init__(self, model1, model2):\n",
    "        super(SiameseNetwork, self).__init__()\n",
    "        self.model1 = model1\n",
    "        self.model2 = model2\n",
    "\n",
    "    def forward(self, input1, input2):\n",
    "        output1 = self.model1(input1)\n",
    "        output2 = self.model2(input2)\n",
    "        return output1, output2"
   ]
  },
  {
   "cell_type": "code",
   "execution_count": 5,
   "id": "47c97fa9-2e27-4b5b-88a7-576658c67b83",
   "metadata": {},
   "outputs": [],
   "source": [
    "class ContrastiveLoss(torch.nn.Module):\n",
    "    \"\"\"\n",
    "    Contrastive loss function.\n",
    "    Based on: http://yann.lecun.com/exdb/publis/pdf/hadsell-chopra-lecun-06.pdf\n",
    "    \"\"\"\n",
    "\n",
    "    def __init__(self, margin=2.0):\n",
    "        super(ContrastiveLoss, self).__init__()\n",
    "        self.margin = margin\n",
    "\n",
    "    def forward(self, output1, output2, label):\n",
    "        euclidean_distance = F.pairwise_distance(output1, output2, keepdim = True)\n",
    "        loss_contrastive = torch.mean((1-label) * torch.pow(euclidean_distance, 2) +\n",
    "                                      (label) * torch.pow(torch.clamp(self.margin - euclidean_distance, min=0.0), 2))\n",
    "\n",
    "\n",
    "        return loss_contrastive"
   ]
  },
  {
   "cell_type": "code",
   "execution_count": 6,
   "id": "9a63c89d-f89d-4c58-8aa2-64a23cf54ab8",
   "metadata": {},
   "outputs": [],
   "source": [
    "import random\n",
    "\n",
    "def make_onehot_data(length, *args) :\n",
    "    return [random.randint(*args[0]) for _ in range(length)]\n",
    "\n",
    "def make_linear_data(length, *args) :\n",
    "    return [random.random() * args[0] for _ in range(length)]\n",
    "\n",
    "def make_multihot(length, *args) :\n",
    "    args = args[0]\n",
    "    multihot_length = args[0]\n",
    "    min_range = args[1]\n",
    "    max_range = args[2]\n",
    "    \n",
    "    return [[random.randint(min_range, max_range) for _ in range(multihot_length)] for _ in range(length)]\n",
    "\n",
    "def random_config(feature_type) :\n",
    "\n",
    "    if feature_type == \"onehot\" :\n",
    "        val1 = random.randint(1, 30)\n",
    "        val2 = random.randint(1, 30)\n",
    "        return min(val1, val2), max(val1, val2)\n",
    "        \n",
    "    if feature_type == \"linear\" :\n",
    "        return random.randint(1, 10)\n",
    "    \n",
    "    if feature_type == \"multihot\" :\n",
    "        val1 = random.randint(1, 30)\n",
    "        val2 = random.randint(1, 30)\n",
    "        return random.randint(1, 10), min(val1, val2), max(val1, val2)\n",
    "    \n",
    "    return\n",
    "\n",
    "def make_independent_data(datamap, length) :\n",
    "\n",
    "    data = {}\n",
    "    \n",
    "    for k, v in datamap.items() :\n",
    "        if v == \"onehot\" :\n",
    "            data[k] = make_onehot_data(length, random_config(v))\n",
    "        if v == \"linear\" :\n",
    "            \n",
    "            data[k] = make_linear_data(length, random_config(v))\n",
    "        if v == \"multihot\" :\n",
    "            data[k] = make_multihot(length, random_config(v))\n",
    "    \n",
    "    return pd.DataFrame(data)\n",
    "\n",
    "\n",
    "def make_dataset(target_variable, datamap, length) :\n",
    "    \n",
    "    return pd.concat([make_independent_data(datamap, length).assign(y  = i) for i in range(target_variable)])"
   ]
  },
  {
   "cell_type": "code",
   "execution_count": 7,
   "id": "17f37194-a625-437c-8af3-90a1d548c7e1",
   "metadata": {},
   "outputs": [],
   "source": [
    "def search_num_sparse_features(df, datamap, y_col = \"y\") :\n",
    "    datamap = datamap.copy()\n",
    "    datamap.pop(\"y\")\n",
    "    return max(*[df[k].apply(max).max() if v == \"multihot\" else df[k].max() for k, v in datamap.items() if v in [\"multihot\", \"onehot\"]])"
   ]
  },
  {
   "cell_type": "code",
   "execution_count": 8,
   "id": "d6a9289a-0415-40bf-9ede-8ea7f81529c6",
   "metadata": {},
   "outputs": [],
   "source": [
    "# 모델 인스턴스 생성\n",
    "num_sparse_features = 6  # Embedding Idx의 최대값 + 1\n",
    "num_linear_features = 1  # linear feature의 개수 - 개별로 넣으면 1, 묶음이면 len(feature)\n",
    "embedding_dim = 10\n",
    "hidden_dim = 20\n",
    "output_dim = 1  # 예측할 출력의 차원 (예: 회귀의 경우 1, 이진 분류의 경우 1)\n",
    "print_ok = True"
   ]
  },
  {
   "cell_type": "code",
   "execution_count": 10,
   "id": "7206453f-ef4e-47e9-8c7f-6bd035265f09",
   "metadata": {},
   "outputs": [],
   "source": [
    "datamap1 = {\"a\" : \"linear\", \"b\" : \"multihot\", \"c\" : \"onehot\", \"d\" : \"multihot\", \"y\" : \"onehot\"}\n",
    "datamap2 = {\"a\" : \"linear\", \"b\" : \"multihot\", \"c\" : \"onehot\", \"y\" : \"onehot\"}"
   ]
  },
  {
   "cell_type": "code",
   "execution_count": 11,
   "id": "2dfb0404-add5-4e42-a4ba-64b849131798",
   "metadata": {},
   "outputs": [],
   "source": [
    "data1 = make_dataset(3, datamap1, 1000)\n",
    "data2 = make_dataset(3, datamap2, 1000)"
   ]
  },
  {
   "cell_type": "code",
   "execution_count": 16,
   "id": "32c66d24-51e4-494e-9296-81802b8b95d7",
   "metadata": {},
   "outputs": [],
   "source": [
    "dataset = SiamesDataset(data1, datamap1, data2, datamap2, data1, \"y\")\n",
    "dataloader = DataLoader(dataset, batch_size=10, shuffle=True)"
   ]
  },
  {
   "cell_type": "code",
   "execution_count": 17,
   "id": "9ee12fc6-cdda-4b2d-b013-7b2a0b2c787f",
   "metadata": {},
   "outputs": [],
   "source": [
    "model1 = EmbeddingModel(datamap1)\n",
    "model2 = EmbeddingModel(datamap2)"
   ]
  },
  {
   "cell_type": "code",
   "execution_count": 18,
   "id": "26b22d01-e438-43fa-8560-721576a2d72c",
   "metadata": {},
   "outputs": [
    {
     "data": {
      "text/plain": [
       "SiameseNetwork(\n",
       "  (model1): EmbeddingModel(\n",
       "    (a): Linear(in_features=1, out_features=10, bias=True)\n",
       "    (b): Embedding(6, 10)\n",
       "    (c): Embedding(6, 10)\n",
       "    (d): Embedding(6, 10)\n",
       "    (y): Embedding(6, 10)\n",
       "    (fc1): Linear(in_features=40, out_features=20, bias=True)\n",
       "    (fc2): Linear(in_features=20, out_features=1, bias=True)\n",
       "  )\n",
       "  (model2): EmbeddingModel(\n",
       "    (a): Linear(in_features=1, out_features=10, bias=True)\n",
       "    (b): Embedding(6, 10)\n",
       "    (c): Embedding(6, 10)\n",
       "    (y): Embedding(6, 10)\n",
       "    (fc1): Linear(in_features=30, out_features=20, bias=True)\n",
       "    (fc2): Linear(in_features=20, out_features=1, bias=True)\n",
       "  )\n",
       ")"
      ]
     },
     "execution_count": 18,
     "metadata": {},
     "output_type": "execute_result"
    }
   ],
   "source": [
    "siam_model = SiameseNetwork(model1, model2)\n",
    "siam_model"
   ]
  },
  {
   "cell_type": "code",
   "execution_count": 28,
   "id": "65ba5cc1-e210-4a4f-865b-b7ee7f6f6b3e",
   "metadata": {},
   "outputs": [],
   "source": [
    "# 모델 인스턴스 생성\n",
    "num_sparse_features = max(search_num_sparse_features(data1, datamap1), search_num_sparse_features(data2, datamap2)) + 2  # Embedding Idx의 최대값 + 1\n",
    "num_linear_features = 1  # linear feature의 개수 - 개별로 넣으면 1, 묶음이면 len(feature)\n",
    "embedding_dim = 100\n",
    "hidden_dim = 20\n",
    "output_dim = 1  # 예측할 출력의 차원 (예: 회귀의 경우 1, 이진 분류의 경우 1)\n",
    "print_ok = True"
   ]
  },
  {
   "cell_type": "code",
   "execution_count": 29,
   "id": "05414a7b-f3ee-4e11-9210-2018321254d4",
   "metadata": {},
   "outputs": [
    {
     "data": {
      "text/plain": [
       "29"
      ]
     },
     "execution_count": 29,
     "metadata": {},
     "output_type": "execute_result"
    }
   ],
   "source": [
    "num_sparse_features"
   ]
  },
  {
   "cell_type": "code",
   "execution_count": 30,
   "id": "14e5c478-4f68-459b-b874-399f0e02e563",
   "metadata": {},
   "outputs": [],
   "source": [
    "model1 = EmbeddingModel(datamap1)\n",
    "model2 = EmbeddingModel(datamap2)"
   ]
  },
  {
   "cell_type": "code",
   "execution_count": 31,
   "id": "a6f69247-3482-462e-854f-5c617eee7071",
   "metadata": {
    "scrolled": true
   },
   "outputs": [
    {
     "data": {
      "text/plain": [
       "SiameseNetwork(\n",
       "  (model1): EmbeddingModel(\n",
       "    (a): Linear(in_features=1, out_features=100, bias=True)\n",
       "    (b): Embedding(29, 100)\n",
       "    (c): Embedding(29, 100)\n",
       "    (d): Embedding(29, 100)\n",
       "    (y): Embedding(29, 100)\n",
       "    (fc1): Linear(in_features=400, out_features=20, bias=True)\n",
       "    (fc2): Linear(in_features=20, out_features=1, bias=True)\n",
       "  )\n",
       "  (model2): EmbeddingModel(\n",
       "    (a): Linear(in_features=1, out_features=100, bias=True)\n",
       "    (b): Embedding(29, 100)\n",
       "    (c): Embedding(29, 100)\n",
       "    (y): Embedding(29, 100)\n",
       "    (fc1): Linear(in_features=300, out_features=20, bias=True)\n",
       "    (fc2): Linear(in_features=20, out_features=1, bias=True)\n",
       "  )\n",
       ")"
      ]
     },
     "execution_count": 31,
     "metadata": {},
     "output_type": "execute_result"
    }
   ],
   "source": [
    "siam_model = SiameseNetwork(model1, model2)\n",
    "siam_model"
   ]
  },
  {
   "cell_type": "code",
   "execution_count": 35,
   "id": "5826afb9-a208-420e-a029-487c102725c6",
   "metadata": {},
   "outputs": [
    {
     "data": {
      "text/plain": [
       "tensor([ 4.9638, -0.7289,  4.5129], grad_fn=<SumBackward1>)"
      ]
     },
     "execution_count": 35,
     "metadata": {},
     "output_type": "execute_result"
    }
   ],
   "source": [
    "torch.sum(siam_model.model1.b(dataset.__getitem__(0)[0][\"b\"]), dim = 1)"
   ]
  },
  {
   "cell_type": "code",
   "execution_count": 36,
   "id": "eb15eac6-d5a5-44ed-b115-21e27484ba3d",
   "metadata": {},
   "outputs": [
    {
     "name": "stdout",
     "output_type": "stream",
     "text": [
      "Epoch number 0\n",
      " Current loss 1985.03466796875\n",
      "\n",
      "Epoch number 10\n",
      " Current loss 73727144.0\n",
      "\n",
      "Epoch number 20\n",
      " Current loss 1222268032.0\n",
      "\n",
      "Epoch number 30\n",
      " Current loss -10822985728.0\n",
      "\n",
      "Epoch number 40\n",
      " Current loss -21899587584.0\n",
      "\n",
      "Epoch number 50\n",
      " Current loss 54278995968.0\n",
      "\n",
      "Epoch number 60\n",
      " Current loss -333290831872.0\n",
      "\n",
      "Epoch number 70\n",
      " Current loss -183532699648.0\n",
      "\n",
      "Epoch number 80\n",
      " Current loss 549518639104.0\n",
      "\n",
      "Epoch number 90\n",
      " Current loss -1022763728896.0\n",
      "\n"
     ]
    }
   ],
   "source": [
    "criterion = ContrastiveLoss()\n",
    "optimizer = torch.optim.Adam(siam_model.parameters(),lr = 0.0005)\n",
    "\n",
    "counter = []\n",
    "loss_history = [] \n",
    "iteration_number= 0\n",
    "\n",
    "for epoch in range(0, 100):\n",
    "    for i, data in enumerate(dataloader):\n",
    "        x1, x2, y = data\n",
    "        \n",
    "        optimizer.zero_grad()\n",
    "        output1, output2 = siam_model(x1, x2)\n",
    "        \n",
    "        loss_contrastive = criterion(output1,output2,y)\n",
    "        loss_contrastive.backward()\n",
    "        optimizer.step()\n",
    "    if epoch %10 == 0 :\n",
    "        print(\"Epoch number {}\\n Current loss {}\\n\".format(epoch,loss_contrastive.item()))\n",
    "        iteration_number +=10\n",
    "        counter.append(iteration_number)\n",
    "        loss_history.append(loss_contrastive.item())"
   ]
  },
  {
   "cell_type": "code",
   "execution_count": 37,
   "id": "d4267d64-6276-48e6-8bd1-5861dd7cb337",
   "metadata": {},
   "outputs": [
    {
     "data": {
      "text/plain": [
       "tensor([ 4.8925, -0.8262,  4.3757], grad_fn=<SumBackward1>)"
      ]
     },
     "execution_count": 37,
     "metadata": {},
     "output_type": "execute_result"
    }
   ],
   "source": [
    "torch.sum(siam_model.model1.b(dataset.__getitem__(0)[0][\"b\"]), dim = 1)"
   ]
  },
  {
   "cell_type": "code",
   "execution_count": null,
   "id": "7b1efa1f-a26d-4f3d-a01a-7e07b4c4f8b4",
   "metadata": {},
   "outputs": [],
   "source": []
  }
 ],
 "metadata": {
  "kernelspec": {
   "display_name": "Python 3 (ipykernel)",
   "language": "python",
   "name": "python3"
  },
  "language_info": {
   "codemirror_mode": {
    "name": "ipython",
    "version": 3
   },
   "file_extension": ".py",
   "mimetype": "text/x-python",
   "name": "python",
   "nbconvert_exporter": "python",
   "pygments_lexer": "ipython3",
   "version": "3.9.19"
  }
 },
 "nbformat": 4,
 "nbformat_minor": 5
}
